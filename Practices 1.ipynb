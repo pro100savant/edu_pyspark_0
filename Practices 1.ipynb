{
 "cells": [
  {
   "cell_type": "markdown",
   "id": "9e0cac7f",
   "metadata": {},
   "source": [
    "## Practices 0"
   ]
  },
  {
   "cell_type": "code",
   "execution_count": null,
   "id": "d1c658fb",
   "metadata": {},
   "outputs": [],
   "source": [
    "import findspark\n",
    "findspark.init()\n",
    "findspark.find()\n",
    "from pyspark.sql import SparkSession\n",
    "from pyspark.sql.functions import mean,col,split, col, regexp_extract, when, lit"
   ]
  },
  {
   "cell_type": "code",
   "execution_count": null,
   "id": "63a400bf",
   "metadata": {},
   "outputs": [],
   "source": [
    "#creat session\n",
    "spark = SparkSession.builder.appName(\"SimpleApp\").getOrCreate()"
   ]
  },
  {
   "cell_type": "code",
   "execution_count": null,
   "id": "57c4f2af",
   "metadata": {},
   "outputs": [],
   "source": [
    "path = \"data/titanic_proj_train.csv\"\n",
    "titanic_df = spark.read.csv(path,header = 'True',inferSchema='True')"
   ]
  },
  {
   "cell_type": "code",
   "execution_count": null,
   "id": "b0a51df8",
   "metadata": {},
   "outputs": [],
   "source": [
    "display(titanic_df)"
   ]
  },
  {
   "cell_type": "code",
   "execution_count": null,
   "id": "f8ac9132",
   "metadata": {},
   "outputs": [],
   "source": [
    "titanic_df.printSchema()"
   ]
  },
  {
   "cell_type": "code",
   "execution_count": null,
   "id": "87a9c6a2",
   "metadata": {},
   "outputs": [],
   "source": [
    "titanic_df.show(5)"
   ]
  },
  {
   "cell_type": "code",
   "execution_count": null,
   "id": "57595ab7",
   "metadata": {},
   "outputs": [],
   "source": [
    "titanic_df.select(\"Survived\",\"Pclass\",\"Embarked\").show()"
   ]
  },
  {
   "cell_type": "code",
   "execution_count": null,
   "id": "7afa3af0",
   "metadata": {
    "scrolled": true
   },
   "outputs": [],
   "source": [
    "titanic_df.groupBy(\"Survived\").count().show()"
   ]
  },
  {
   "cell_type": "code",
   "execution_count": null,
   "id": "245b91e4",
   "metadata": {},
   "outputs": [],
   "source": [
    "titanic_df.groupBy(\"Pclass\",\"Survived\").count().show()"
   ]
  },
  {
   "cell_type": "code",
   "execution_count": null,
   "id": "f8583659",
   "metadata": {},
   "outputs": [],
   "source": [
    "# task 1\n",
    "#Did more male or а female survived? (show the table)\n"
   ]
  },
  {
   "cell_type": "code",
   "execution_count": null,
   "id": "c970b1cc",
   "metadata": {},
   "outputs": [],
   "source": [
    "#check Initial\n",
    "titanic_df.select(\"Name\").show()"
   ]
  },
  {
   "cell_type": "code",
   "execution_count": null,
   "id": "bdc295ff",
   "metadata": {},
   "outputs": [],
   "source": [
    "titanic_df = titanic_df.withColumn(\"Initial\",regexp_extract(col(\"Name\"),\"([A-Za-z]+)\\.\",1))\n",
    "titanic_df.select(\"Initial\").show()"
   ]
  },
  {
   "cell_type": "code",
   "execution_count": null,
   "id": "ed83a08c",
   "metadata": {},
   "outputs": [],
   "source": [
    "titanic_df = titanic_df.replace(['Mlle','Mme', 'Ms', 'Dr','Major','Lady','Countess','Jonkheer','Col','Rev','Capt','Sir','Don'],\n",
    "               ['Miss','Miss','Miss','Mr','Mr',  'Mrs',  'Mrs',  'Other',  'Other','Other','Mr','Mr','Mr'])"
   ]
  },
  {
   "cell_type": "code",
   "execution_count": null,
   "id": "05865c62",
   "metadata": {},
   "outputs": [],
   "source": [
    "titanic_df.select(\"Initial\").distinct().show()"
   ]
  },
  {
   "cell_type": "code",
   "execution_count": null,
   "id": "ac226067",
   "metadata": {},
   "outputs": [],
   "source": [
    "#Calculate  avereg age \n",
    "titanic_df.groupby('Initial').avg('Age').collect()"
   ]
  },
  {
   "cell_type": "code",
   "execution_count": null,
   "id": "42bb7ae0",
   "metadata": {},
   "outputs": [],
   "source": [
    "#Task 2. What is the median and standard deviation of payments (`Fare`)?\n",
    "from pyspark.sql.functions import mean, stddev \n"
   ]
  },
  {
   "cell_type": "code",
   "execution_count": null,
   "id": "8c85456c",
   "metadata": {},
   "outputs": [],
   "source": [
    "#Task 3.\n",
    "#Find the most popular the male name.\n"
   ]
  },
  {
   "cell_type": "code",
   "execution_count": null,
   "id": "2c9c7fb5",
   "metadata": {},
   "outputs": [],
   "source": [
    "#Task 4.Is it true that people under the age of 30 survived more often than people over the age of 60? What are the proportions of survivors in both groups?\n"
   ]
  },
  {
   "cell_type": "code",
   "execution_count": null,
   "id": "88c38ac6",
   "metadata": {},
   "outputs": [],
   "source": [
    "#Task 5.\n",
    "'''\n",
    "How does the average age of men/women differ depending on the class of service? Choose the correct statements:**\n",
    "- On average, men of the 1st class are over 40 years old\n",
    "- On average, 1st grade women are over 40 years old\n",
    "- Men of all classes are on average older than women of the same class\n",
    "- On average, people in the 1st grade are older than in the 2nd, and those are older than representatives of the 3rd grade\n",
    "'''\n"
   ]
  }
 ],
 "metadata": {
  "kernelspec": {
   "display_name": "Python 3 (ipykernel)",
   "language": "python",
   "name": "python3"
  },
  "language_info": {
   "codemirror_mode": {
    "name": "ipython",
    "version": 3
   },
   "file_extension": ".py",
   "mimetype": "text/x-python",
   "name": "python",
   "nbconvert_exporter": "python",
   "pygments_lexer": "ipython3",
   "version": "3.9.7"
  }
 },
 "nbformat": 4,
 "nbformat_minor": 5
}
